{
 "cells": [
  {
   "cell_type": "markdown",
   "id": "dd45d502",
   "metadata": {},
   "source": [
    "# Data Science Tools and Ecosystem"
   ]
  },
  {
   "cell_type": "markdown",
   "id": "076a4f7f",
   "metadata": {},
   "source": [
    "In this notebook, Data Science Tools and Ecoystsems are summarized."
   ]
  },
  {
   "cell_type": "markdown",
   "id": "d54b5b55",
   "metadata": {},
   "source": [
    "**Objectives:**\n",
    "- List popular languages for data science\n",
    "- list common libraries for data science\n",
    "- evaluating arthmetic expression"
   ]
  },
  {
   "cell_type": "markdown",
   "id": "c85783f1",
   "metadata": {},
   "source": [
    "Some of the popular lannguages that Data Scientists use are:\n",
    "1. python\n",
    "2. R-studio\n",
    "3. SQL"
   ]
  },
  {
   "cell_type": "markdown",
   "id": "db26e4de",
   "metadata": {},
   "source": [
    "Some of the commonly ued libraries used by Data Scientists include:\n",
    "1. pandas\n",
    "2. ggplot\n",
    "3. tensorflow"
   ]
  },
  {
   "cell_type": "markdown",
   "id": "7b1292cc",
   "metadata": {},
   "source": [
    "|Data Science Tools|\n",
    "| ------------------------ |\n",
    "| Tensorflow |\n",
    "| ApacheSpark|\n",
    "|R-studio|\n"
   ]
  },
  {
   "cell_type": "markdown",
   "id": "490550fc",
   "metadata": {},
   "source": [
    "### Below are a few examples of evaluating arithmetic expressions in Python"
   ]
  },
  {
   "cell_type": "code",
   "execution_count": 5,
   "id": "7a4ce135",
   "metadata": {},
   "outputs": [
    {
     "data": {
      "text/plain": [
       "17"
      ]
     },
     "execution_count": 5,
     "metadata": {},
     "output_type": "execute_result"
    }
   ],
   "source": [
    "(3*4)+5"
   ]
  },
  {
   "cell_type": "code",
   "execution_count": 6,
   "id": "ae833e88",
   "metadata": {},
   "outputs": [
    {
     "data": {
      "text/plain": [
       "17"
      ]
     },
     "execution_count": 6,
     "metadata": {},
     "output_type": "execute_result"
    }
   ],
   "source": [
    "# This a simple arithemetic expression to multiply then add intergers\n",
    "(3*4)+5"
   ]
  },
  {
   "cell_type": "code",
   "execution_count": 7,
   "id": "54e98149",
   "metadata": {},
   "outputs": [
    {
     "data": {
      "text/plain": [
       "3.3333333333333335"
      ]
     },
     "execution_count": 7,
     "metadata": {},
     "output_type": "execute_result"
    }
   ],
   "source": [
    "# This will convert minutes to hours by dividing by 60\n",
    "200/60"
   ]
  },
  {
   "cell_type": "markdown",
   "id": "4e348c4c",
   "metadata": {},
   "source": [
    "## Author:\n",
    "Raed Aldweik"
   ]
  },
  {
   "cell_type": "code",
   "execution_count": null,
   "id": "f245c7a5",
   "metadata": {},
   "outputs": [],
   "source": []
  }
 ],
 "metadata": {
  "kernelspec": {
   "display_name": "Python 3 (ipykernel)",
   "language": "python",
   "name": "python3"
  },
  "language_info": {
   "codemirror_mode": {
    "name": "ipython",
    "version": 3
   },
   "file_extension": ".py",
   "mimetype": "text/x-python",
   "name": "python",
   "nbconvert_exporter": "python",
   "pygments_lexer": "ipython3",
   "version": "3.10.11"
  }
 },
 "nbformat": 4,
 "nbformat_minor": 5
}
